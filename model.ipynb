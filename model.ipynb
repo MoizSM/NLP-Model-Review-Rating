{
 "cells": [
  {
   "cell_type": "markdown",
   "metadata": {},
   "source": [
    "#### This is a natural language processing machine learning model.\n",
    "Natural language in the most simple words is the interaction between humans and computers through the human language. The NLP model is used for applying machine learning algorithms to text and language. \n",
    "\n",
    "#### The most common applications of NLP are seen in : \n",
    "* Voice Assistants like Google Home, Alexa, Siri , etc.\n",
    "* Sentiment Analysis\n",
    "* Speech Recognition\n",
    "* Chatbots\n",
    "* Summarizing Documents \n",
    "* Predicting an outcome based on the words in used in a sentence (Reviews , Announcements , Therapeutic Communication , etc.)\n",
    "\n",
    "### The dataset I have used contains reviews of various cutomers after purchase based on their experience with the product. The _rating_ column is evaluated based on the _review text_ that the customer has written based on thier experience with the product and the services.\n",
    "\n",
    "#### The dataset has been taken from [Kaggle](https://www.kaggle.com/nicapotato/womens-ecommerce-clothing-reviews/downloads/Womens%20Clothing%20E-Commerce%20Reviews.csv/1)"
   ]
  },
  {
   "cell_type": "markdown",
   "metadata": {},
   "source": [
    "We will be creating the bag of words model which is the most popular reperesentation used in Natural Language Processing. It contains: \n",
    "* A vocabulary of known words. \n",
    "* A measure of the presence of those words"
   ]
  },
  {
   "cell_type": "code",
   "execution_count": 1,
   "metadata": {},
   "outputs": [],
   "source": [
    "#Importing the basic libraries for data analysis.\n",
    "import pandas as pd"
   ]
  },
  {
   "cell_type": "markdown",
   "metadata": {},
   "source": [
    "Importing the dataset:"
   ]
  },
  {
   "cell_type": "code",
   "execution_count": 2,
   "metadata": {},
   "outputs": [
    {
     "name": "stdout",
     "output_type": "stream",
     "text": [
      "<class 'pandas.core.frame.DataFrame'>\n",
      "RangeIndex: 23486 entries, 0 to 23485\n",
      "Data columns (total 11 columns):\n",
      "Unnamed: 0                 23486 non-null int64\n",
      "Clothing ID                23486 non-null int64\n",
      "Age                        23486 non-null int64\n",
      "Title                      19676 non-null object\n",
      "Review Text                22641 non-null object\n",
      "Rating                     23486 non-null int64\n",
      "Recommended IND            23486 non-null int64\n",
      "Positive Feedback Count    23486 non-null int64\n",
      "Division Name              23472 non-null object\n",
      "Department Name            23472 non-null object\n",
      "Class Name                 23472 non-null object\n",
      "dtypes: int64(6), object(5)\n",
      "memory usage: 1.5+ MB\n"
     ]
    }
   ],
   "source": [
    "dataset = pd.read_csv('customerReviews.txt' , delimiter = '\\t')\n",
    "dataset = dataset.reset_index(drop = True)\n",
    "dataset.info()"
   ]
  },
  {
   "cell_type": "markdown",
   "metadata": {},
   "source": [
    "The document has **tab seperated values** and the reason it is not a **CSV (comma seperated values)** is because the sentences in the _Review Text_  column may contain commas between various words and this can confuse the model. Hence we use a tab delimiter file to avoid that confusion."
   ]
  },
  {
   "cell_type": "code",
   "execution_count": 3,
   "metadata": {},
   "outputs": [
    {
     "data": {
      "text/html": [
       "<div>\n",
       "<style scoped>\n",
       "    .dataframe tbody tr th:only-of-type {\n",
       "        vertical-align: middle;\n",
       "    }\n",
       "\n",
       "    .dataframe tbody tr th {\n",
       "        vertical-align: top;\n",
       "    }\n",
       "\n",
       "    .dataframe thead th {\n",
       "        text-align: right;\n",
       "    }\n",
       "</style>\n",
       "<table border=\"1\" class=\"dataframe\">\n",
       "  <thead>\n",
       "    <tr style=\"text-align: right;\">\n",
       "      <th></th>\n",
       "      <th>Unnamed: 0</th>\n",
       "      <th>Clothing ID</th>\n",
       "      <th>Age</th>\n",
       "      <th>Title</th>\n",
       "      <th>Review Text</th>\n",
       "      <th>Rating</th>\n",
       "      <th>Recommended IND</th>\n",
       "      <th>Positive Feedback Count</th>\n",
       "      <th>Division Name</th>\n",
       "      <th>Department Name</th>\n",
       "      <th>Class Name</th>\n",
       "    </tr>\n",
       "  </thead>\n",
       "  <tbody>\n",
       "    <tr>\n",
       "      <th>0</th>\n",
       "      <td>0</td>\n",
       "      <td>767</td>\n",
       "      <td>33</td>\n",
       "      <td>NaN</td>\n",
       "      <td>Absolutely wonderful - silky and sexy and comf...</td>\n",
       "      <td>4</td>\n",
       "      <td>1</td>\n",
       "      <td>0</td>\n",
       "      <td>Initmates</td>\n",
       "      <td>Intimate</td>\n",
       "      <td>Intimates</td>\n",
       "    </tr>\n",
       "    <tr>\n",
       "      <th>1</th>\n",
       "      <td>1</td>\n",
       "      <td>1080</td>\n",
       "      <td>34</td>\n",
       "      <td>NaN</td>\n",
       "      <td>Love this dress!  it's sooo pretty.  i happene...</td>\n",
       "      <td>5</td>\n",
       "      <td>1</td>\n",
       "      <td>4</td>\n",
       "      <td>General</td>\n",
       "      <td>Dresses</td>\n",
       "      <td>Dresses</td>\n",
       "    </tr>\n",
       "    <tr>\n",
       "      <th>2</th>\n",
       "      <td>2</td>\n",
       "      <td>1077</td>\n",
       "      <td>60</td>\n",
       "      <td>Some major design flaws</td>\n",
       "      <td>I had such high hopes for this dress and reall...</td>\n",
       "      <td>3</td>\n",
       "      <td>0</td>\n",
       "      <td>0</td>\n",
       "      <td>General</td>\n",
       "      <td>Dresses</td>\n",
       "      <td>Dresses</td>\n",
       "    </tr>\n",
       "    <tr>\n",
       "      <th>3</th>\n",
       "      <td>3</td>\n",
       "      <td>1049</td>\n",
       "      <td>50</td>\n",
       "      <td>My favorite buy!</td>\n",
       "      <td>I love, love, love this jumpsuit. it's fun, fl...</td>\n",
       "      <td>5</td>\n",
       "      <td>1</td>\n",
       "      <td>0</td>\n",
       "      <td>General Petite</td>\n",
       "      <td>Bottoms</td>\n",
       "      <td>Pants</td>\n",
       "    </tr>\n",
       "    <tr>\n",
       "      <th>4</th>\n",
       "      <td>4</td>\n",
       "      <td>847</td>\n",
       "      <td>47</td>\n",
       "      <td>Flattering shirt</td>\n",
       "      <td>This shirt is very flattering to all due to th...</td>\n",
       "      <td>5</td>\n",
       "      <td>1</td>\n",
       "      <td>6</td>\n",
       "      <td>General</td>\n",
       "      <td>Tops</td>\n",
       "      <td>Blouses</td>\n",
       "    </tr>\n",
       "  </tbody>\n",
       "</table>\n",
       "</div>"
      ],
      "text/plain": [
       "   Unnamed: 0  Clothing ID  Age                    Title  \\\n",
       "0           0          767   33                      NaN   \n",
       "1           1         1080   34                      NaN   \n",
       "2           2         1077   60  Some major design flaws   \n",
       "3           3         1049   50         My favorite buy!   \n",
       "4           4          847   47         Flattering shirt   \n",
       "\n",
       "                                         Review Text  Rating  Recommended IND  \\\n",
       "0  Absolutely wonderful - silky and sexy and comf...       4                1   \n",
       "1  Love this dress!  it's sooo pretty.  i happene...       5                1   \n",
       "2  I had such high hopes for this dress and reall...       3                0   \n",
       "3  I love, love, love this jumpsuit. it's fun, fl...       5                1   \n",
       "4  This shirt is very flattering to all due to th...       5                1   \n",
       "\n",
       "   Positive Feedback Count   Division Name Department Name Class Name  \n",
       "0                        0       Initmates        Intimate  Intimates  \n",
       "1                        4         General         Dresses    Dresses  \n",
       "2                        0         General         Dresses    Dresses  \n",
       "3                        0  General Petite         Bottoms      Pants  \n",
       "4                        6         General            Tops    Blouses  "
      ]
     },
     "execution_count": 3,
     "metadata": {},
     "output_type": "execute_result"
    }
   ],
   "source": [
    "dataset.head(5)"
   ]
  },
  {
   "cell_type": "markdown",
   "metadata": {},
   "source": [
    "As we can see that the dataset contains 11 columns. But we are mainly concerned will only two columns for our NLP model:\n",
    "* Review Text : Which contains the review of the customers.\n",
    "* Rating : Which contains the rating of the user out of 5."
   ]
  },
  {
   "cell_type": "code",
   "execution_count": 4,
   "metadata": {},
   "outputs": [
    {
     "data": {
      "text/plain": [
       "22641"
      ]
     },
     "execution_count": 4,
     "metadata": {},
     "output_type": "execute_result"
    }
   ],
   "source": [
    "#Remove all the rows where the Rating or Review Text valus are missing\n",
    "dataset = dataset.dropna(subset = ['Review Text' , 'Rating'])\n",
    "dataset = dataset.reset_index(drop = True)\n",
    "\n",
    "reviewSet = dataset.iloc[ : , [4,5]]\n",
    "reviewSet.head(5)\n",
    "\n",
    "len(reviewSet)"
   ]
  },
  {
   "cell_type": "markdown",
   "metadata": {},
   "source": [
    "#### The next and most important step is to clean the text data so that the ML model can be implemented more effectively. \n",
    "\n",
    "This is involves a few steps:\n",
    "* Only keeping the letters ie. removing numbers and special characters\n",
    "* Converting all the letters into lower case.\n",
    "* Removing unecessary words that do not comtribute to the output like preposition such as **in, or, the, and, this, that, etc**\n",
    "* Identifying the root word of all the words (aka stemming)\n",
    "* Creating the bag of words"
   ]
  },
  {
   "cell_type": "markdown",
   "metadata": {},
   "source": [
    "#### Step 1 : Only keeping letters : \n"
   ]
  },
  {
   "cell_type": "code",
   "execution_count": 5,
   "metadata": {},
   "outputs": [
    {
     "data": {
      "text/plain": [
       "53"
      ]
     },
     "execution_count": 5,
     "metadata": {},
     "output_type": "execute_result"
    }
   ],
   "source": [
    "#Length of the string before cleaning\n",
    "beforeCleaning = len(reviewSet['Review Text'][0])\n",
    "beforeCleaning"
   ]
  },
  {
   "cell_type": "code",
   "execution_count": 6,
   "metadata": {},
   "outputs": [
    {
     "data": {
      "text/plain": [
       "'Absolutely wonderful   silky and sexy and comfortable'"
      ]
     },
     "execution_count": 6,
     "metadata": {},
     "output_type": "execute_result"
    }
   ],
   "source": [
    "## Library that filters out all the content based on the regular expression pattern given.\n",
    "import re \n",
    "review = re.sub(\"[^a-zA-Z]\" , ' ' , reviewSet['Review Text'][0]) # For the first Review Text \n",
    "review"
   ]
  },
  {
   "cell_type": "markdown",
   "metadata": {},
   "source": [
    "As we can see that only the letter have stayed in the review compared to the _Review Text_ in the dataset (the 1st response).  "
   ]
  },
  {
   "cell_type": "markdown",
   "metadata": {},
   "source": [
    "#### Step 2 : Converting all the letters to lower case : "
   ]
  },
  {
   "cell_type": "code",
   "execution_count": 7,
   "metadata": {},
   "outputs": [
    {
     "data": {
      "text/plain": [
       "'absolutely wonderful   silky and sexy and comfortable'"
      ]
     },
     "execution_count": 7,
     "metadata": {},
     "output_type": "execute_result"
    }
   ],
   "source": [
    "review = review.lower()\n",
    "review"
   ]
  },
  {
   "cell_type": "markdown",
   "metadata": {},
   "source": [
    "All the letters have been converted to lower case letters"
   ]
  },
  {
   "cell_type": "markdown",
   "metadata": {},
   "source": [
    "#### Step 3: Removing all the insignificant words : \n",
    "This can be done using popular libraries such as NLTK which is a popular natural langauage processing library in python "
   ]
  },
  {
   "cell_type": "code",
   "execution_count": 8,
   "metadata": {},
   "outputs": [],
   "source": [
    "import nltk\n",
    "#Stopwords is a package that contains all the unecessary words that will be used to filter out those words.\n",
    "# nltk.download('stopwords')"
   ]
  },
  {
   "cell_type": "code",
   "execution_count": 9,
   "metadata": {},
   "outputs": [],
   "source": [
    "#Importing the library and all the necessary components\n",
    "from nltk.corpus import stopwords #Importing the stopwords class"
   ]
  },
  {
   "cell_type": "markdown",
   "metadata": {},
   "source": [
    "We need to split the words of the string into a list since we have to go through every word seperately and check if the it matches any of the words in the stopwords package."
   ]
  },
  {
   "cell_type": "code",
   "execution_count": 10,
   "metadata": {},
   "outputs": [],
   "source": [
    "review = review.split()"
   ]
  },
  {
   "cell_type": "code",
   "execution_count": 11,
   "metadata": {},
   "outputs": [
    {
     "data": {
      "text/plain": [
       "['absolutely', 'wonderful', 'silky', 'and', 'sexy', 'and', 'comfortable']"
      ]
     },
     "execution_count": 11,
     "metadata": {},
     "output_type": "execute_result"
    }
   ],
   "source": [
    "review"
   ]
  },
  {
   "cell_type": "markdown",
   "metadata": {},
   "source": [
    "We have converted rthe string into a list of individual words. In the output above I have displayed only 10 words but there the list will contain as many words as the string **review** has."
   ]
  },
  {
   "cell_type": "markdown",
   "metadata": {},
   "source": [
    "We will then use a **For-in loop** to go through each word in the list and check if the word exists in the stopwords package.\n",
    "If the word exists in the stopwords package then it doesn not add it to the review list"
   ]
  },
  {
   "cell_type": "code",
   "execution_count": 12,
   "metadata": {},
   "outputs": [
    {
     "data": {
      "text/plain": [
       "['absolutely', 'wonderful', 'silky', 'sexy', 'comfortable']"
      ]
     },
     "execution_count": 12,
     "metadata": {},
     "output_type": "execute_result"
    }
   ],
   "source": [
    "review = [word for word in review if not word in set(stopwords.words('english'))]\n",
    "review"
   ]
  },
  {
   "cell_type": "markdown",
   "metadata": {},
   "source": [
    "As we can see that the uncessary words like **I, and, this, of, have,** etc have been removed."
   ]
  },
  {
   "cell_type": "markdown",
   "metadata": {},
   "source": [
    "#### Step 4 : Finding out the root words of all the words in the list (aka. stemming)"
   ]
  },
  {
   "cell_type": "code",
   "execution_count": 13,
   "metadata": {},
   "outputs": [
    {
     "data": {
      "text/plain": [
       "['absolut', 'wonder', 'silki', 'sexi', 'comfort']"
      ]
     },
     "execution_count": 13,
     "metadata": {},
     "output_type": "execute_result"
    }
   ],
   "source": [
    "#Importing the library that contains the root words of the english words.\n",
    "from nltk.stem.porter import PorterStemmer\n",
    "ps = PorterStemmer()\n",
    "review = [ps.stem(word) for word in review]\n",
    "review"
   ]
  },
  {
   "cell_type": "markdown",
   "metadata": {},
   "source": [
    "#### Converting the list back to string"
   ]
  },
  {
   "cell_type": "code",
   "execution_count": 14,
   "metadata": {},
   "outputs": [
    {
     "data": {
      "text/plain": [
       "'absolut wonder silki sexi comfort'"
      ]
     },
     "execution_count": 14,
     "metadata": {},
     "output_type": "execute_result"
    }
   ],
   "source": [
    "review = ' '.join(review)\n",
    "review"
   ]
  },
  {
   "cell_type": "markdown",
   "metadata": {},
   "source": [
    "The list has been converted with to a string. "
   ]
  },
  {
   "cell_type": "code",
   "execution_count": 15,
   "metadata": {},
   "outputs": [
    {
     "data": {
      "text/plain": [
       "33"
      ]
     },
     "execution_count": 15,
     "metadata": {},
     "output_type": "execute_result"
    }
   ],
   "source": [
    "#Length of string after cleaning\n",
    "afterCleaning = len(review) \n",
    "afterCleaning"
   ]
  },
  {
   "cell_type": "markdown",
   "metadata": {},
   "source": [
    "As we can see that the length of the string has decreased from 53 to 33. "
   ]
  },
  {
   "cell_type": "markdown",
   "metadata": {},
   "source": [
    "#### We now have a clean string for the first review. However we have to do this for all the reviews hence we will use a for loop to repeat the process for all the reviews"
   ]
  },
  {
   "cell_type": "code",
   "execution_count": 16,
   "metadata": {},
   "outputs": [
    {
     "data": {
      "text/plain": [
       "22641"
      ]
     },
     "execution_count": 16,
     "metadata": {},
     "output_type": "execute_result"
    }
   ],
   "source": [
    "#Storing the number of rows for the dataset *reviewSet*\n",
    "nRows = len(reviewSet.index)\n",
    "nRows"
   ]
  },
  {
   "cell_type": "code",
   "execution_count": 17,
   "metadata": {},
   "outputs": [],
   "source": [
    "cleanedReviews = [] #Creating an empty array (vector) that will contain all the clean strings.\n",
    "\n",
    "for i in range(0,nRows): #The range is from 0 to nRows(which in our case is 19662).\n",
    "    review = re.sub(\"[^a-zA-Z]\" , ' ' , reviewSet['Review Text'][i]) #Put i in instead of row the number.(STEP 1)\n",
    "    review = review.lower() #Step 2\n",
    "    review = review.split() #Step 3\n",
    "    review = [ps.stem(word) for word in review if not word in set(stopwords.words('english'))] #Step 3\n",
    "    review = ' '.join(review)\n",
    "    cleanedReviews.append(review)"
   ]
  },
  {
   "cell_type": "code",
   "execution_count": 18,
   "metadata": {},
   "outputs": [
    {
     "data": {
      "text/plain": [
       "['absolut wonder silki sexi comfort',\n",
       " 'love dress sooo pretti happen find store glad bc never would order onlin bc petit bought petit love length hit littl knee would definit true midi someon truli petit',\n",
       " 'high hope dress realli want work initi order petit small usual size found outrag small small fact could zip reorder petit medium ok overal top half comfort fit nice bottom half tight layer sever somewhat cheap net layer imo major design flaw net layer sewn directli zipper c',\n",
       " 'love love love jumpsuit fun flirti fabul everi time wear get noth great compliment',\n",
       " 'shirt flatter due adjust front tie perfect length wear leg sleeveless pair well cardigan love shirt']"
      ]
     },
     "execution_count": 18,
     "metadata": {},
     "output_type": "execute_result"
    }
   ],
   "source": [
    "cleanedReviews[0 : 5]"
   ]
  },
  {
   "cell_type": "markdown",
   "metadata": {},
   "source": [
    "Hence cleanedReviews contains the list of all the cleaned reviews. \n",
    "Let us now calculate the word count for all the reviews in the cleanedReview list."
   ]
  },
  {
   "cell_type": "code",
   "execution_count": 19,
   "metadata": {},
   "outputs": [],
   "source": [
    "wc = ' '.join(cleanedReviews)"
   ]
  },
  {
   "cell_type": "code",
   "execution_count": 20,
   "metadata": {},
   "outputs": [],
   "source": [
    "wc = wc.split()"
   ]
  },
  {
   "cell_type": "code",
   "execution_count": 21,
   "metadata": {},
   "outputs": [],
   "source": [
    "#Importing the counter library to calculate the word count\n",
    "from collections import Counter\n",
    "counter=Counter(wc)"
   ]
  },
  {
   "cell_type": "markdown",
   "metadata": {},
   "source": [
    "The counter variable has stored the word count for all the words used in the review.\n",
    "Let us see plot the 50 most common word used in the reviews against thier word counts"
   ]
  },
  {
   "cell_type": "code",
   "execution_count": 22,
   "metadata": {},
   "outputs": [
    {
     "data": {
      "text/html": [
       "<div>\n",
       "<style scoped>\n",
       "    .dataframe tbody tr th:only-of-type {\n",
       "        vertical-align: middle;\n",
       "    }\n",
       "\n",
       "    .dataframe tbody tr th {\n",
       "        vertical-align: top;\n",
       "    }\n",
       "\n",
       "    .dataframe thead th {\n",
       "        text-align: right;\n",
       "    }\n",
       "</style>\n",
       "<table border=\"1\" class=\"dataframe\">\n",
       "  <thead>\n",
       "    <tr style=\"text-align: right;\">\n",
       "      <th></th>\n",
       "      <th>Word</th>\n",
       "      <th>Word Count</th>\n",
       "    </tr>\n",
       "  </thead>\n",
       "  <tbody>\n",
       "    <tr>\n",
       "      <th>0</th>\n",
       "      <td>dress</td>\n",
       "      <td>12187</td>\n",
       "    </tr>\n",
       "    <tr>\n",
       "      <th>1</th>\n",
       "      <td>fit</td>\n",
       "      <td>11514</td>\n",
       "    </tr>\n",
       "    <tr>\n",
       "      <th>2</th>\n",
       "      <td>love</td>\n",
       "      <td>11395</td>\n",
       "    </tr>\n",
       "    <tr>\n",
       "      <th>3</th>\n",
       "      <td>size</td>\n",
       "      <td>10723</td>\n",
       "    </tr>\n",
       "    <tr>\n",
       "      <th>4</th>\n",
       "      <td>look</td>\n",
       "      <td>9354</td>\n",
       "    </tr>\n",
       "    <tr>\n",
       "      <th>5</th>\n",
       "      <td>top</td>\n",
       "      <td>8375</td>\n",
       "    </tr>\n",
       "    <tr>\n",
       "      <th>6</th>\n",
       "      <td>wear</td>\n",
       "      <td>8075</td>\n",
       "    </tr>\n",
       "    <tr>\n",
       "      <th>7</th>\n",
       "      <td>like</td>\n",
       "      <td>7876</td>\n",
       "    </tr>\n",
       "    <tr>\n",
       "      <th>8</th>\n",
       "      <td>color</td>\n",
       "      <td>7300</td>\n",
       "    </tr>\n",
       "    <tr>\n",
       "      <th>9</th>\n",
       "      <td>great</td>\n",
       "      <td>6118</td>\n",
       "    </tr>\n",
       "  </tbody>\n",
       "</table>\n",
       "</div>"
      ],
      "text/plain": [
       "    Word  Word Count\n",
       "0  dress       12187\n",
       "1    fit       11514\n",
       "2   love       11395\n",
       "3   size       10723\n",
       "4   look        9354\n",
       "5    top        8375\n",
       "6   wear        8075\n",
       "7   like        7876\n",
       "8  color        7300\n",
       "9  great        6118"
      ]
     },
     "execution_count": 22,
     "metadata": {},
     "output_type": "execute_result"
    }
   ],
   "source": [
    "wordCount = pd.DataFrame(counter.most_common(10) , \n",
    "                        columns = ['Word' , 'Word Count'])\n",
    "wordCount"
   ]
  },
  {
   "cell_type": "code",
   "execution_count": 45,
   "metadata": {},
   "outputs": [
    {
     "data": {
      "application/javascript": [
       "/* Put everything inside the global mpl namespace */\n",
       "window.mpl = {};\n",
       "\n",
       "\n",
       "mpl.get_websocket_type = function() {\n",
       "    if (typeof(WebSocket) !== 'undefined') {\n",
       "        return WebSocket;\n",
       "    } else if (typeof(MozWebSocket) !== 'undefined') {\n",
       "        return MozWebSocket;\n",
       "    } else {\n",
       "        alert('Your browser does not have WebSocket support. ' +\n",
       "              'Please try Chrome, Safari or Firefox ≥ 6. ' +\n",
       "              'Firefox 4 and 5 are also supported but you ' +\n",
       "              'have to enable WebSockets in about:config.');\n",
       "    };\n",
       "}\n",
       "\n",
       "mpl.figure = function(figure_id, websocket, ondownload, parent_element) {\n",
       "    this.id = figure_id;\n",
       "\n",
       "    this.ws = websocket;\n",
       "\n",
       "    this.supports_binary = (this.ws.binaryType != undefined);\n",
       "\n",
       "    if (!this.supports_binary) {\n",
       "        var warnings = document.getElementById(\"mpl-warnings\");\n",
       "        if (warnings) {\n",
       "            warnings.style.display = 'block';\n",
       "            warnings.textContent = (\n",
       "                \"This browser does not support binary websocket messages. \" +\n",
       "                    \"Performance may be slow.\");\n",
       "        }\n",
       "    }\n",
       "\n",
       "    this.imageObj = new Image();\n",
       "\n",
       "    this.context = undefined;\n",
       "    this.message = undefined;\n",
       "    this.canvas = undefined;\n",
       "    this.rubberband_canvas = undefined;\n",
       "    this.rubberband_context = undefined;\n",
       "    this.format_dropdown = undefined;\n",
       "\n",
       "    this.image_mode = 'full';\n",
       "\n",
       "    this.root = $('<div/>');\n",
       "    this._root_extra_style(this.root)\n",
       "    this.root.attr('style', 'display: inline-block');\n",
       "\n",
       "    $(parent_element).append(this.root);\n",
       "\n",
       "    this._init_header(this);\n",
       "    this._init_canvas(this);\n",
       "    this._init_toolbar(this);\n",
       "\n",
       "    var fig = this;\n",
       "\n",
       "    this.waiting = false;\n",
       "\n",
       "    this.ws.onopen =  function () {\n",
       "            fig.send_message(\"supports_binary\", {value: fig.supports_binary});\n",
       "            fig.send_message(\"send_image_mode\", {});\n",
       "            if (mpl.ratio != 1) {\n",
       "                fig.send_message(\"set_dpi_ratio\", {'dpi_ratio': mpl.ratio});\n",
       "            }\n",
       "            fig.send_message(\"refresh\", {});\n",
       "        }\n",
       "\n",
       "    this.imageObj.onload = function() {\n",
       "            if (fig.image_mode == 'full') {\n",
       "                // Full images could contain transparency (where diff images\n",
       "                // almost always do), so we need to clear the canvas so that\n",
       "                // there is no ghosting.\n",
       "                fig.context.clearRect(0, 0, fig.canvas.width, fig.canvas.height);\n",
       "            }\n",
       "            fig.context.drawImage(fig.imageObj, 0, 0);\n",
       "        };\n",
       "\n",
       "    this.imageObj.onunload = function() {\n",
       "        fig.ws.close();\n",
       "    }\n",
       "\n",
       "    this.ws.onmessage = this._make_on_message_function(this);\n",
       "\n",
       "    this.ondownload = ondownload;\n",
       "}\n",
       "\n",
       "mpl.figure.prototype._init_header = function() {\n",
       "    var titlebar = $(\n",
       "        '<div class=\"ui-dialog-titlebar ui-widget-header ui-corner-all ' +\n",
       "        'ui-helper-clearfix\"/>');\n",
       "    var titletext = $(\n",
       "        '<div class=\"ui-dialog-title\" style=\"width: 100%; ' +\n",
       "        'text-align: center; padding: 3px;\"/>');\n",
       "    titlebar.append(titletext)\n",
       "    this.root.append(titlebar);\n",
       "    this.header = titletext[0];\n",
       "}\n",
       "\n",
       "\n",
       "\n",
       "mpl.figure.prototype._canvas_extra_style = function(canvas_div) {\n",
       "\n",
       "}\n",
       "\n",
       "\n",
       "mpl.figure.prototype._root_extra_style = function(canvas_div) {\n",
       "\n",
       "}\n",
       "\n",
       "mpl.figure.prototype._init_canvas = function() {\n",
       "    var fig = this;\n",
       "\n",
       "    var canvas_div = $('<div/>');\n",
       "\n",
       "    canvas_div.attr('style', 'position: relative; clear: both; outline: 0');\n",
       "\n",
       "    function canvas_keyboard_event(event) {\n",
       "        return fig.key_event(event, event['data']);\n",
       "    }\n",
       "\n",
       "    canvas_div.keydown('key_press', canvas_keyboard_event);\n",
       "    canvas_div.keyup('key_release', canvas_keyboard_event);\n",
       "    this.canvas_div = canvas_div\n",
       "    this._canvas_extra_style(canvas_div)\n",
       "    this.root.append(canvas_div);\n",
       "\n",
       "    var canvas = $('<canvas/>');\n",
       "    canvas.addClass('mpl-canvas');\n",
       "    canvas.attr('style', \"left: 0; top: 0; z-index: 0; outline: 0\")\n",
       "\n",
       "    this.canvas = canvas[0];\n",
       "    this.context = canvas[0].getContext(\"2d\");\n",
       "\n",
       "    var backingStore = this.context.backingStorePixelRatio ||\n",
       "\tthis.context.webkitBackingStorePixelRatio ||\n",
       "\tthis.context.mozBackingStorePixelRatio ||\n",
       "\tthis.context.msBackingStorePixelRatio ||\n",
       "\tthis.context.oBackingStorePixelRatio ||\n",
       "\tthis.context.backingStorePixelRatio || 1;\n",
       "\n",
       "    mpl.ratio = (window.devicePixelRatio || 1) / backingStore;\n",
       "\n",
       "    var rubberband = $('<canvas/>');\n",
       "    rubberband.attr('style', \"position: absolute; left: 0; top: 0; z-index: 1;\")\n",
       "\n",
       "    var pass_mouse_events = true;\n",
       "\n",
       "    canvas_div.resizable({\n",
       "        start: function(event, ui) {\n",
       "            pass_mouse_events = false;\n",
       "        },\n",
       "        resize: function(event, ui) {\n",
       "            fig.request_resize(ui.size.width, ui.size.height);\n",
       "        },\n",
       "        stop: function(event, ui) {\n",
       "            pass_mouse_events = true;\n",
       "            fig.request_resize(ui.size.width, ui.size.height);\n",
       "        },\n",
       "    });\n",
       "\n",
       "    function mouse_event_fn(event) {\n",
       "        if (pass_mouse_events)\n",
       "            return fig.mouse_event(event, event['data']);\n",
       "    }\n",
       "\n",
       "    rubberband.mousedown('button_press', mouse_event_fn);\n",
       "    rubberband.mouseup('button_release', mouse_event_fn);\n",
       "    // Throttle sequential mouse events to 1 every 20ms.\n",
       "    rubberband.mousemove('motion_notify', mouse_event_fn);\n",
       "\n",
       "    rubberband.mouseenter('figure_enter', mouse_event_fn);\n",
       "    rubberband.mouseleave('figure_leave', mouse_event_fn);\n",
       "\n",
       "    canvas_div.on(\"wheel\", function (event) {\n",
       "        event = event.originalEvent;\n",
       "        event['data'] = 'scroll'\n",
       "        if (event.deltaY < 0) {\n",
       "            event.step = 1;\n",
       "        } else {\n",
       "            event.step = -1;\n",
       "        }\n",
       "        mouse_event_fn(event);\n",
       "    });\n",
       "\n",
       "    canvas_div.append(canvas);\n",
       "    canvas_div.append(rubberband);\n",
       "\n",
       "    this.rubberband = rubberband;\n",
       "    this.rubberband_canvas = rubberband[0];\n",
       "    this.rubberband_context = rubberband[0].getContext(\"2d\");\n",
       "    this.rubberband_context.strokeStyle = \"#000000\";\n",
       "\n",
       "    this._resize_canvas = function(width, height) {\n",
       "        // Keep the size of the canvas, canvas container, and rubber band\n",
       "        // canvas in synch.\n",
       "        canvas_div.css('width', width)\n",
       "        canvas_div.css('height', height)\n",
       "\n",
       "        canvas.attr('width', width * mpl.ratio);\n",
       "        canvas.attr('height', height * mpl.ratio);\n",
       "        canvas.attr('style', 'width: ' + width + 'px; height: ' + height + 'px;');\n",
       "\n",
       "        rubberband.attr('width', width);\n",
       "        rubberband.attr('height', height);\n",
       "    }\n",
       "\n",
       "    // Set the figure to an initial 600x600px, this will subsequently be updated\n",
       "    // upon first draw.\n",
       "    this._resize_canvas(600, 600);\n",
       "\n",
       "    // Disable right mouse context menu.\n",
       "    $(this.rubberband_canvas).bind(\"contextmenu\",function(e){\n",
       "        return false;\n",
       "    });\n",
       "\n",
       "    function set_focus () {\n",
       "        canvas.focus();\n",
       "        canvas_div.focus();\n",
       "    }\n",
       "\n",
       "    window.setTimeout(set_focus, 100);\n",
       "}\n",
       "\n",
       "mpl.figure.prototype._init_toolbar = function() {\n",
       "    var fig = this;\n",
       "\n",
       "    var nav_element = $('<div/>');\n",
       "    nav_element.attr('style', 'width: 100%');\n",
       "    this.root.append(nav_element);\n",
       "\n",
       "    // Define a callback function for later on.\n",
       "    function toolbar_event(event) {\n",
       "        return fig.toolbar_button_onclick(event['data']);\n",
       "    }\n",
       "    function toolbar_mouse_event(event) {\n",
       "        return fig.toolbar_button_onmouseover(event['data']);\n",
       "    }\n",
       "\n",
       "    for(var toolbar_ind in mpl.toolbar_items) {\n",
       "        var name = mpl.toolbar_items[toolbar_ind][0];\n",
       "        var tooltip = mpl.toolbar_items[toolbar_ind][1];\n",
       "        var image = mpl.toolbar_items[toolbar_ind][2];\n",
       "        var method_name = mpl.toolbar_items[toolbar_ind][3];\n",
       "\n",
       "        if (!name) {\n",
       "            // put a spacer in here.\n",
       "            continue;\n",
       "        }\n",
       "        var button = $('<button/>');\n",
       "        button.addClass('ui-button ui-widget ui-state-default ui-corner-all ' +\n",
       "                        'ui-button-icon-only');\n",
       "        button.attr('role', 'button');\n",
       "        button.attr('aria-disabled', 'false');\n",
       "        button.click(method_name, toolbar_event);\n",
       "        button.mouseover(tooltip, toolbar_mouse_event);\n",
       "\n",
       "        var icon_img = $('<span/>');\n",
       "        icon_img.addClass('ui-button-icon-primary ui-icon');\n",
       "        icon_img.addClass(image);\n",
       "        icon_img.addClass('ui-corner-all');\n",
       "\n",
       "        var tooltip_span = $('<span/>');\n",
       "        tooltip_span.addClass('ui-button-text');\n",
       "        tooltip_span.html(tooltip);\n",
       "\n",
       "        button.append(icon_img);\n",
       "        button.append(tooltip_span);\n",
       "\n",
       "        nav_element.append(button);\n",
       "    }\n",
       "\n",
       "    var fmt_picker_span = $('<span/>');\n",
       "\n",
       "    var fmt_picker = $('<select/>');\n",
       "    fmt_picker.addClass('mpl-toolbar-option ui-widget ui-widget-content');\n",
       "    fmt_picker_span.append(fmt_picker);\n",
       "    nav_element.append(fmt_picker_span);\n",
       "    this.format_dropdown = fmt_picker[0];\n",
       "\n",
       "    for (var ind in mpl.extensions) {\n",
       "        var fmt = mpl.extensions[ind];\n",
       "        var option = $(\n",
       "            '<option/>', {selected: fmt === mpl.default_extension}).html(fmt);\n",
       "        fmt_picker.append(option);\n",
       "    }\n",
       "\n",
       "    // Add hover states to the ui-buttons\n",
       "    $( \".ui-button\" ).hover(\n",
       "        function() { $(this).addClass(\"ui-state-hover\");},\n",
       "        function() { $(this).removeClass(\"ui-state-hover\");}\n",
       "    );\n",
       "\n",
       "    var status_bar = $('<span class=\"mpl-message\"/>');\n",
       "    nav_element.append(status_bar);\n",
       "    this.message = status_bar[0];\n",
       "}\n",
       "\n",
       "mpl.figure.prototype.request_resize = function(x_pixels, y_pixels) {\n",
       "    // Request matplotlib to resize the figure. Matplotlib will then trigger a resize in the client,\n",
       "    // which will in turn request a refresh of the image.\n",
       "    this.send_message('resize', {'width': x_pixels, 'height': y_pixels});\n",
       "}\n",
       "\n",
       "mpl.figure.prototype.send_message = function(type, properties) {\n",
       "    properties['type'] = type;\n",
       "    properties['figure_id'] = this.id;\n",
       "    this.ws.send(JSON.stringify(properties));\n",
       "}\n",
       "\n",
       "mpl.figure.prototype.send_draw_message = function() {\n",
       "    if (!this.waiting) {\n",
       "        this.waiting = true;\n",
       "        this.ws.send(JSON.stringify({type: \"draw\", figure_id: this.id}));\n",
       "    }\n",
       "}\n",
       "\n",
       "\n",
       "mpl.figure.prototype.handle_save = function(fig, msg) {\n",
       "    var format_dropdown = fig.format_dropdown;\n",
       "    var format = format_dropdown.options[format_dropdown.selectedIndex].value;\n",
       "    fig.ondownload(fig, format);\n",
       "}\n",
       "\n",
       "\n",
       "mpl.figure.prototype.handle_resize = function(fig, msg) {\n",
       "    var size = msg['size'];\n",
       "    if (size[0] != fig.canvas.width || size[1] != fig.canvas.height) {\n",
       "        fig._resize_canvas(size[0], size[1]);\n",
       "        fig.send_message(\"refresh\", {});\n",
       "    };\n",
       "}\n",
       "\n",
       "mpl.figure.prototype.handle_rubberband = function(fig, msg) {\n",
       "    var x0 = msg['x0'] / mpl.ratio;\n",
       "    var y0 = (fig.canvas.height - msg['y0']) / mpl.ratio;\n",
       "    var x1 = msg['x1'] / mpl.ratio;\n",
       "    var y1 = (fig.canvas.height - msg['y1']) / mpl.ratio;\n",
       "    x0 = Math.floor(x0) + 0.5;\n",
       "    y0 = Math.floor(y0) + 0.5;\n",
       "    x1 = Math.floor(x1) + 0.5;\n",
       "    y1 = Math.floor(y1) + 0.5;\n",
       "    var min_x = Math.min(x0, x1);\n",
       "    var min_y = Math.min(y0, y1);\n",
       "    var width = Math.abs(x1 - x0);\n",
       "    var height = Math.abs(y1 - y0);\n",
       "\n",
       "    fig.rubberband_context.clearRect(\n",
       "        0, 0, fig.canvas.width, fig.canvas.height);\n",
       "\n",
       "    fig.rubberband_context.strokeRect(min_x, min_y, width, height);\n",
       "}\n",
       "\n",
       "mpl.figure.prototype.handle_figure_label = function(fig, msg) {\n",
       "    // Updates the figure title.\n",
       "    fig.header.textContent = msg['label'];\n",
       "}\n",
       "\n",
       "mpl.figure.prototype.handle_cursor = function(fig, msg) {\n",
       "    var cursor = msg['cursor'];\n",
       "    switch(cursor)\n",
       "    {\n",
       "    case 0:\n",
       "        cursor = 'pointer';\n",
       "        break;\n",
       "    case 1:\n",
       "        cursor = 'default';\n",
       "        break;\n",
       "    case 2:\n",
       "        cursor = 'crosshair';\n",
       "        break;\n",
       "    case 3:\n",
       "        cursor = 'move';\n",
       "        break;\n",
       "    }\n",
       "    fig.rubberband_canvas.style.cursor = cursor;\n",
       "}\n",
       "\n",
       "mpl.figure.prototype.handle_message = function(fig, msg) {\n",
       "    fig.message.textContent = msg['message'];\n",
       "}\n",
       "\n",
       "mpl.figure.prototype.handle_draw = function(fig, msg) {\n",
       "    // Request the server to send over a new figure.\n",
       "    fig.send_draw_message();\n",
       "}\n",
       "\n",
       "mpl.figure.prototype.handle_image_mode = function(fig, msg) {\n",
       "    fig.image_mode = msg['mode'];\n",
       "}\n",
       "\n",
       "mpl.figure.prototype.updated_canvas_event = function() {\n",
       "    // Called whenever the canvas gets updated.\n",
       "    this.send_message(\"ack\", {});\n",
       "}\n",
       "\n",
       "// A function to construct a web socket function for onmessage handling.\n",
       "// Called in the figure constructor.\n",
       "mpl.figure.prototype._make_on_message_function = function(fig) {\n",
       "    return function socket_on_message(evt) {\n",
       "        if (evt.data instanceof Blob) {\n",
       "            /* FIXME: We get \"Resource interpreted as Image but\n",
       "             * transferred with MIME type text/plain:\" errors on\n",
       "             * Chrome.  But how to set the MIME type?  It doesn't seem\n",
       "             * to be part of the websocket stream */\n",
       "            evt.data.type = \"image/png\";\n",
       "\n",
       "            /* Free the memory for the previous frames */\n",
       "            if (fig.imageObj.src) {\n",
       "                (window.URL || window.webkitURL).revokeObjectURL(\n",
       "                    fig.imageObj.src);\n",
       "            }\n",
       "\n",
       "            fig.imageObj.src = (window.URL || window.webkitURL).createObjectURL(\n",
       "                evt.data);\n",
       "            fig.updated_canvas_event();\n",
       "            fig.waiting = false;\n",
       "            return;\n",
       "        }\n",
       "        else if (typeof evt.data === 'string' && evt.data.slice(0, 21) == \"data:image/png;base64\") {\n",
       "            fig.imageObj.src = evt.data;\n",
       "            fig.updated_canvas_event();\n",
       "            fig.waiting = false;\n",
       "            return;\n",
       "        }\n",
       "\n",
       "        var msg = JSON.parse(evt.data);\n",
       "        var msg_type = msg['type'];\n",
       "\n",
       "        // Call the  \"handle_{type}\" callback, which takes\n",
       "        // the figure and JSON message as its only arguments.\n",
       "        try {\n",
       "            var callback = fig[\"handle_\" + msg_type];\n",
       "        } catch (e) {\n",
       "            console.log(\"No handler for the '\" + msg_type + \"' message type: \", msg);\n",
       "            return;\n",
       "        }\n",
       "\n",
       "        if (callback) {\n",
       "            try {\n",
       "                // console.log(\"Handling '\" + msg_type + \"' message: \", msg);\n",
       "                callback(fig, msg);\n",
       "            } catch (e) {\n",
       "                console.log(\"Exception inside the 'handler_\" + msg_type + \"' callback:\", e, e.stack, msg);\n",
       "            }\n",
       "        }\n",
       "    };\n",
       "}\n",
       "\n",
       "// from http://stackoverflow.com/questions/1114465/getting-mouse-location-in-canvas\n",
       "mpl.findpos = function(e) {\n",
       "    //this section is from http://www.quirksmode.org/js/events_properties.html\n",
       "    var targ;\n",
       "    if (!e)\n",
       "        e = window.event;\n",
       "    if (e.target)\n",
       "        targ = e.target;\n",
       "    else if (e.srcElement)\n",
       "        targ = e.srcElement;\n",
       "    if (targ.nodeType == 3) // defeat Safari bug\n",
       "        targ = targ.parentNode;\n",
       "\n",
       "    // jQuery normalizes the pageX and pageY\n",
       "    // pageX,Y are the mouse positions relative to the document\n",
       "    // offset() returns the position of the element relative to the document\n",
       "    var x = e.pageX - $(targ).offset().left;\n",
       "    var y = e.pageY - $(targ).offset().top;\n",
       "\n",
       "    return {\"x\": x, \"y\": y};\n",
       "};\n",
       "\n",
       "/*\n",
       " * return a copy of an object with only non-object keys\n",
       " * we need this to avoid circular references\n",
       " * http://stackoverflow.com/a/24161582/3208463\n",
       " */\n",
       "function simpleKeys (original) {\n",
       "  return Object.keys(original).reduce(function (obj, key) {\n",
       "    if (typeof original[key] !== 'object')\n",
       "        obj[key] = original[key]\n",
       "    return obj;\n",
       "  }, {});\n",
       "}\n",
       "\n",
       "mpl.figure.prototype.mouse_event = function(event, name) {\n",
       "    var canvas_pos = mpl.findpos(event)\n",
       "\n",
       "    if (name === 'button_press')\n",
       "    {\n",
       "        this.canvas.focus();\n",
       "        this.canvas_div.focus();\n",
       "    }\n",
       "\n",
       "    var x = canvas_pos.x * mpl.ratio;\n",
       "    var y = canvas_pos.y * mpl.ratio;\n",
       "\n",
       "    this.send_message(name, {x: x, y: y, button: event.button,\n",
       "                             step: event.step,\n",
       "                             guiEvent: simpleKeys(event)});\n",
       "\n",
       "    /* This prevents the web browser from automatically changing to\n",
       "     * the text insertion cursor when the button is pressed.  We want\n",
       "     * to control all of the cursor setting manually through the\n",
       "     * 'cursor' event from matplotlib */\n",
       "    event.preventDefault();\n",
       "    return false;\n",
       "}\n",
       "\n",
       "mpl.figure.prototype._key_event_extra = function(event, name) {\n",
       "    // Handle any extra behaviour associated with a key event\n",
       "}\n",
       "\n",
       "mpl.figure.prototype.key_event = function(event, name) {\n",
       "\n",
       "    // Prevent repeat events\n",
       "    if (name == 'key_press')\n",
       "    {\n",
       "        if (event.which === this._key)\n",
       "            return;\n",
       "        else\n",
       "            this._key = event.which;\n",
       "    }\n",
       "    if (name == 'key_release')\n",
       "        this._key = null;\n",
       "\n",
       "    var value = '';\n",
       "    if (event.ctrlKey && event.which != 17)\n",
       "        value += \"ctrl+\";\n",
       "    if (event.altKey && event.which != 18)\n",
       "        value += \"alt+\";\n",
       "    if (event.shiftKey && event.which != 16)\n",
       "        value += \"shift+\";\n",
       "\n",
       "    value += 'k';\n",
       "    value += event.which.toString();\n",
       "\n",
       "    this._key_event_extra(event, name);\n",
       "\n",
       "    this.send_message(name, {key: value,\n",
       "                             guiEvent: simpleKeys(event)});\n",
       "    return false;\n",
       "}\n",
       "\n",
       "mpl.figure.prototype.toolbar_button_onclick = function(name) {\n",
       "    if (name == 'download') {\n",
       "        this.handle_save(this, null);\n",
       "    } else {\n",
       "        this.send_message(\"toolbar_button\", {name: name});\n",
       "    }\n",
       "};\n",
       "\n",
       "mpl.figure.prototype.toolbar_button_onmouseover = function(tooltip) {\n",
       "    this.message.textContent = tooltip;\n",
       "};\n",
       "mpl.toolbar_items = [[\"Home\", \"Reset original view\", \"fa fa-home icon-home\", \"home\"], [\"Back\", \"Back to previous view\", \"fa fa-arrow-left icon-arrow-left\", \"back\"], [\"Forward\", \"Forward to next view\", \"fa fa-arrow-right icon-arrow-right\", \"forward\"], [\"\", \"\", \"\", \"\"], [\"Pan\", \"Pan axes with left mouse, zoom with right\", \"fa fa-arrows icon-move\", \"pan\"], [\"Zoom\", \"Zoom to rectangle\", \"fa fa-square-o icon-check-empty\", \"zoom\"], [\"\", \"\", \"\", \"\"], [\"Download\", \"Download plot\", \"fa fa-floppy-o icon-save\", \"download\"]];\n",
       "\n",
       "mpl.extensions = [\"eps\", \"jpeg\", \"pdf\", \"png\", \"ps\", \"raw\", \"svg\", \"tif\"];\n",
       "\n",
       "mpl.default_extension = \"png\";var comm_websocket_adapter = function(comm) {\n",
       "    // Create a \"websocket\"-like object which calls the given IPython comm\n",
       "    // object with the appropriate methods. Currently this is a non binary\n",
       "    // socket, so there is still some room for performance tuning.\n",
       "    var ws = {};\n",
       "\n",
       "    ws.close = function() {\n",
       "        comm.close()\n",
       "    };\n",
       "    ws.send = function(m) {\n",
       "        //console.log('sending', m);\n",
       "        comm.send(m);\n",
       "    };\n",
       "    // Register the callback with on_msg.\n",
       "    comm.on_msg(function(msg) {\n",
       "        //console.log('receiving', msg['content']['data'], msg);\n",
       "        // Pass the mpl event to the overridden (by mpl) onmessage function.\n",
       "        ws.onmessage(msg['content']['data'])\n",
       "    });\n",
       "    return ws;\n",
       "}\n",
       "\n",
       "mpl.mpl_figure_comm = function(comm, msg) {\n",
       "    // This is the function which gets called when the mpl process\n",
       "    // starts-up an IPython Comm through the \"matplotlib\" channel.\n",
       "\n",
       "    var id = msg.content.data.id;\n",
       "    // Get hold of the div created by the display call when the Comm\n",
       "    // socket was opened in Python.\n",
       "    var element = $(\"#\" + id);\n",
       "    var ws_proxy = comm_websocket_adapter(comm)\n",
       "\n",
       "    function ondownload(figure, format) {\n",
       "        window.open(figure.imageObj.src);\n",
       "    }\n",
       "\n",
       "    var fig = new mpl.figure(id, ws_proxy,\n",
       "                           ondownload,\n",
       "                           element.get(0));\n",
       "\n",
       "    // Call onopen now - mpl needs it, as it is assuming we've passed it a real\n",
       "    // web socket which is closed, not our websocket->open comm proxy.\n",
       "    ws_proxy.onopen();\n",
       "\n",
       "    fig.parent_element = element.get(0);\n",
       "    fig.cell_info = mpl.find_output_cell(\"<div id='\" + id + \"'></div>\");\n",
       "    if (!fig.cell_info) {\n",
       "        console.error(\"Failed to find cell for figure\", id, fig);\n",
       "        return;\n",
       "    }\n",
       "\n",
       "    var output_index = fig.cell_info[2]\n",
       "    var cell = fig.cell_info[0];\n",
       "\n",
       "};\n",
       "\n",
       "mpl.figure.prototype.handle_close = function(fig, msg) {\n",
       "    var width = fig.canvas.width/mpl.ratio\n",
       "    fig.root.unbind('remove')\n",
       "\n",
       "    // Update the output cell to use the data from the current canvas.\n",
       "    fig.push_to_output();\n",
       "    var dataURL = fig.canvas.toDataURL();\n",
       "    // Re-enable the keyboard manager in IPython - without this line, in FF,\n",
       "    // the notebook keyboard shortcuts fail.\n",
       "    IPython.keyboard_manager.enable()\n",
       "    $(fig.parent_element).html('<img src=\"' + dataURL + '\" width=\"' + width + '\">');\n",
       "    fig.close_ws(fig, msg);\n",
       "}\n",
       "\n",
       "mpl.figure.prototype.close_ws = function(fig, msg){\n",
       "    fig.send_message('closing', msg);\n",
       "    // fig.ws.close()\n",
       "}\n",
       "\n",
       "mpl.figure.prototype.push_to_output = function(remove_interactive) {\n",
       "    // Turn the data on the canvas into data in the output cell.\n",
       "    var width = this.canvas.width/mpl.ratio\n",
       "    var dataURL = this.canvas.toDataURL();\n",
       "    this.cell_info[1]['text/html'] = '<img src=\"' + dataURL + '\" width=\"' + width + '\">';\n",
       "}\n",
       "\n",
       "mpl.figure.prototype.updated_canvas_event = function() {\n",
       "    // Tell IPython that the notebook contents must change.\n",
       "    IPython.notebook.set_dirty(true);\n",
       "    this.send_message(\"ack\", {});\n",
       "    var fig = this;\n",
       "    // Wait a second, then push the new image to the DOM so\n",
       "    // that it is saved nicely (might be nice to debounce this).\n",
       "    setTimeout(function () { fig.push_to_output() }, 1000);\n",
       "}\n",
       "\n",
       "mpl.figure.prototype._init_toolbar = function() {\n",
       "    var fig = this;\n",
       "\n",
       "    var nav_element = $('<div/>');\n",
       "    nav_element.attr('style', 'width: 100%');\n",
       "    this.root.append(nav_element);\n",
       "\n",
       "    // Define a callback function for later on.\n",
       "    function toolbar_event(event) {\n",
       "        return fig.toolbar_button_onclick(event['data']);\n",
       "    }\n",
       "    function toolbar_mouse_event(event) {\n",
       "        return fig.toolbar_button_onmouseover(event['data']);\n",
       "    }\n",
       "\n",
       "    for(var toolbar_ind in mpl.toolbar_items){\n",
       "        var name = mpl.toolbar_items[toolbar_ind][0];\n",
       "        var tooltip = mpl.toolbar_items[toolbar_ind][1];\n",
       "        var image = mpl.toolbar_items[toolbar_ind][2];\n",
       "        var method_name = mpl.toolbar_items[toolbar_ind][3];\n",
       "\n",
       "        if (!name) { continue; };\n",
       "\n",
       "        var button = $('<button class=\"btn btn-default\" href=\"#\" title=\"' + name + '\"><i class=\"fa ' + image + ' fa-lg\"></i></button>');\n",
       "        button.click(method_name, toolbar_event);\n",
       "        button.mouseover(tooltip, toolbar_mouse_event);\n",
       "        nav_element.append(button);\n",
       "    }\n",
       "\n",
       "    // Add the status bar.\n",
       "    var status_bar = $('<span class=\"mpl-message\" style=\"text-align:right; float: right;\"/>');\n",
       "    nav_element.append(status_bar);\n",
       "    this.message = status_bar[0];\n",
       "\n",
       "    // Add the close button to the window.\n",
       "    var buttongrp = $('<div class=\"btn-group inline pull-right\"></div>');\n",
       "    var button = $('<button class=\"btn btn-mini btn-primary\" href=\"#\" title=\"Stop Interaction\"><i class=\"fa fa-power-off icon-remove icon-large\"></i></button>');\n",
       "    button.click(function (evt) { fig.handle_close(fig, {}); } );\n",
       "    button.mouseover('Stop Interaction', toolbar_mouse_event);\n",
       "    buttongrp.append(button);\n",
       "    var titlebar = this.root.find($('.ui-dialog-titlebar'));\n",
       "    titlebar.prepend(buttongrp);\n",
       "}\n",
       "\n",
       "mpl.figure.prototype._root_extra_style = function(el){\n",
       "    var fig = this\n",
       "    el.on(\"remove\", function(){\n",
       "\tfig.close_ws(fig, {});\n",
       "    });\n",
       "}\n",
       "\n",
       "mpl.figure.prototype._canvas_extra_style = function(el){\n",
       "    // this is important to make the div 'focusable\n",
       "    el.attr('tabindex', 0)\n",
       "    // reach out to IPython and tell the keyboard manager to turn it's self\n",
       "    // off when our div gets focus\n",
       "\n",
       "    // location in version 3\n",
       "    if (IPython.notebook.keyboard_manager) {\n",
       "        IPython.notebook.keyboard_manager.register_events(el);\n",
       "    }\n",
       "    else {\n",
       "        // location in version 2\n",
       "        IPython.keyboard_manager.register_events(el);\n",
       "    }\n",
       "\n",
       "}\n",
       "\n",
       "mpl.figure.prototype._key_event_extra = function(event, name) {\n",
       "    var manager = IPython.notebook.keyboard_manager;\n",
       "    if (!manager)\n",
       "        manager = IPython.keyboard_manager;\n",
       "\n",
       "    // Check for shift+enter\n",
       "    if (event.shiftKey && event.which == 13) {\n",
       "        this.canvas_div.blur();\n",
       "        event.shiftKey = false;\n",
       "        // Send a \"J\" for go to next cell\n",
       "        event.which = 74;\n",
       "        event.keyCode = 74;\n",
       "        manager.command_mode();\n",
       "        manager.handle_keydown(event);\n",
       "    }\n",
       "}\n",
       "\n",
       "mpl.figure.prototype.handle_save = function(fig, msg) {\n",
       "    fig.ondownload(fig, null);\n",
       "}\n",
       "\n",
       "\n",
       "mpl.find_output_cell = function(html_output) {\n",
       "    // Return the cell and output element which can be found *uniquely* in the notebook.\n",
       "    // Note - this is a bit hacky, but it is done because the \"notebook_saving.Notebook\"\n",
       "    // IPython event is triggered only after the cells have been serialised, which for\n",
       "    // our purposes (turning an active figure into a static one), is too late.\n",
       "    var cells = IPython.notebook.get_cells();\n",
       "    var ncells = cells.length;\n",
       "    for (var i=0; i<ncells; i++) {\n",
       "        var cell = cells[i];\n",
       "        if (cell.cell_type === 'code'){\n",
       "            for (var j=0; j<cell.output_area.outputs.length; j++) {\n",
       "                var data = cell.output_area.outputs[j];\n",
       "                if (data.data) {\n",
       "                    // IPython >= 3 moved mimebundle to data attribute of output\n",
       "                    data = data.data;\n",
       "                }\n",
       "                if (data['text/html'] == html_output) {\n",
       "                    return [cell, data, j];\n",
       "                }\n",
       "            }\n",
       "        }\n",
       "    }\n",
       "}\n",
       "\n",
       "// Register the function which deals with the matplotlib target/channel.\n",
       "// The kernel may be null if the page has been refreshed.\n",
       "if (IPython.notebook.kernel != null) {\n",
       "    IPython.notebook.kernel.comm_manager.register_target('matplotlib', mpl.mpl_figure_comm);\n",
       "}\n"
      ],
      "text/plain": [
       "<IPython.core.display.Javascript object>"
      ]
     },
     "metadata": {},
     "output_type": "display_data"
    },
    {
     "data": {
      "text/html": [
       "<img src=\"data:image/png;base64,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\" width=\"600\">"
      ],
      "text/plain": [
       "<IPython.core.display.HTML object>"
      ]
     },
     "metadata": {},
     "output_type": "display_data"
    }
   ],
   "source": [
    "import matplotlib.pyplot as plt\n",
    "import seaborn as sns\n",
    "\n",
    "%matplotlib notebook\n",
    "\n",
    "plt.figure(figsize=(6,4))\n",
    "sns.set(style='darkgrid' , palette = 'bright' , font = 'Roboto' , font_scale = 0.8)\n",
    "ax = sns.barplot(x=\"Word\",y=\"Word Count\", data=wordCount.head(10))"
   ]
  },
  {
   "cell_type": "code",
   "execution_count": 24,
   "metadata": {},
   "outputs": [
    {
     "data": {
      "text/html": [
       "<div>\n",
       "<style scoped>\n",
       "    .dataframe tbody tr th:only-of-type {\n",
       "        vertical-align: middle;\n",
       "    }\n",
       "\n",
       "    .dataframe tbody tr th {\n",
       "        vertical-align: top;\n",
       "    }\n",
       "\n",
       "    .dataframe thead th {\n",
       "        text-align: right;\n",
       "    }\n",
       "</style>\n",
       "<table border=\"1\" class=\"dataframe\">\n",
       "  <thead>\n",
       "    <tr style=\"text-align: right;\">\n",
       "      <th></th>\n",
       "      <th>Cleaned Reviews</th>\n",
       "      <th>Ratings</th>\n",
       "    </tr>\n",
       "  </thead>\n",
       "  <tbody>\n",
       "    <tr>\n",
       "      <th>0</th>\n",
       "      <td>absolut wonder silki sexi comfort</td>\n",
       "      <td>4</td>\n",
       "    </tr>\n",
       "    <tr>\n",
       "      <th>1</th>\n",
       "      <td>love dress sooo pretti happen find store glad ...</td>\n",
       "      <td>5</td>\n",
       "    </tr>\n",
       "    <tr>\n",
       "      <th>2</th>\n",
       "      <td>high hope dress realli want work initi order p...</td>\n",
       "      <td>3</td>\n",
       "    </tr>\n",
       "    <tr>\n",
       "      <th>3</th>\n",
       "      <td>love love love jumpsuit fun flirti fabul everi...</td>\n",
       "      <td>5</td>\n",
       "    </tr>\n",
       "    <tr>\n",
       "      <th>4</th>\n",
       "      <td>shirt flatter due adjust front tie perfect len...</td>\n",
       "      <td>5</td>\n",
       "    </tr>\n",
       "    <tr>\n",
       "      <th>5</th>\n",
       "      <td>love traci rees dress one petit feet tall usua...</td>\n",
       "      <td>2</td>\n",
       "    </tr>\n",
       "    <tr>\n",
       "      <th>6</th>\n",
       "      <td>ade basket hte last mintu see would look like ...</td>\n",
       "      <td>5</td>\n",
       "    </tr>\n",
       "  </tbody>\n",
       "</table>\n",
       "</div>"
      ],
      "text/plain": [
       "                                     Cleaned Reviews  Ratings\n",
       "0                  absolut wonder silki sexi comfort        4\n",
       "1  love dress sooo pretti happen find store glad ...        5\n",
       "2  high hope dress realli want work initi order p...        3\n",
       "3  love love love jumpsuit fun flirti fabul everi...        5\n",
       "4  shirt flatter due adjust front tie perfect len...        5\n",
       "5  love traci rees dress one petit feet tall usua...        2\n",
       "6  ade basket hte last mintu see would look like ...        5"
      ]
     },
     "execution_count": 24,
     "metadata": {},
     "output_type": "execute_result"
    }
   ],
   "source": [
    "new = {'Cleaned Reviews' : cleanedReviews , 'Ratings' : reviewSet['Rating']}\n",
    "newReviews = pd.DataFrame(data = new)\n",
    "newReviews.head(7)"
   ]
  },
  {
   "cell_type": "markdown",
   "metadata": {},
   "source": [
    "#### Let us categorize the data into a binary output where all the ratings equal and below 3 are given 0 (Negative) and all the rating of above 3 are given 1 (Positive).  "
   ]
  },
  {
   "cell_type": "code",
   "execution_count": 25,
   "metadata": {},
   "outputs": [],
   "source": [
    "for i in range(0,len(newReviews.index)): \n",
    "    if (newReviews.iloc[ i , 1] > 3):\n",
    "        newReviews.iloc[ i , 1] = 1\n",
    "    elif (newReviews.iloc[ i , 1] <= 3):\n",
    "        newReviews.iloc[ i , 1] = 0"
   ]
  },
  {
   "cell_type": "code",
   "execution_count": 26,
   "metadata": {},
   "outputs": [
    {
     "data": {
      "text/plain": [
       "1    17448\n",
       "0     5193\n",
       "Name: Ratings, dtype: int64"
      ]
     },
     "execution_count": 26,
     "metadata": {},
     "output_type": "execute_result"
    }
   ],
   "source": [
    "newReviews['Ratings'].value_counts()"
   ]
  },
  {
   "cell_type": "markdown",
   "metadata": {},
   "source": [
    "#### Now we will create the _Bag of Words_ which will contain all the words where each word is put in a seperate column of thier own and the corresponding row will contain 0 (negative) or 1 (positive) depending on weather the word belongs to the review which was marked as positive or negative in the _newReview_  dataset. You must have figured out by now that we will be getting a large number of columns and many many 0's. Hence the matrix formed will be a sparce matrix. "
   ]
  },
  {
   "cell_type": "code",
   "execution_count": 27,
   "metadata": {},
   "outputs": [],
   "source": [
    "X = newReviews['Cleaned Reviews'].values #Input\n",
    "y = newReviews['Ratings'].values #Output"
   ]
  },
  {
   "cell_type": "markdown",
   "metadata": {},
   "source": [
    "#### Step 5: Creating the bag of words:"
   ]
  },
  {
   "cell_type": "code",
   "execution_count": 28,
   "metadata": {},
   "outputs": [],
   "source": [
    "#The library will convert a collection of text documents into a matrix of token counts. \n",
    "from sklearn.feature_extraction.text import CountVectorizer\n",
    "cv = CountVectorizer()\n",
    "X = cv.fit_transform(X)"
   ]
  },
  {
   "cell_type": "markdown",
   "metadata": {},
   "source": [
    "We will use the **bag of words** to train the machine learning model. The NLP model basically a classification model with alot of columns (for every word) and N rows (participants).\n",
    "\n",
    "The most commonly used algorithms for **Natural Language Processing** are:\n",
    "* Naive Bayes Algrithm\n",
    "* Decision Tree Algorithm\n",
    "* Random Forest Classification\n",
    "\n",
    "But ofcoursre you can experiment with all the models and determing which would be the best one.\n",
    "\n",
    "#### We will be using the Naive Bayes Algorithm to make our model."
   ]
  },
  {
   "cell_type": "markdown",
   "metadata": {},
   "source": [
    "## Gaussian Naive Bayes Model:\n",
    "The first step to divide the dataset into training and testing sets."
   ]
  },
  {
   "cell_type": "code",
   "execution_count": 29,
   "metadata": {},
   "outputs": [],
   "source": [
    "from sklearn.model_selection import train_test_split\n",
    "#We have divided the dataset into 30% test size and 70% training size.\n",
    "X_train , X_test , y_train , y_test = train_test_split(X,y,test_size = 0.30) "
   ]
  },
  {
   "cell_type": "code",
   "execution_count": 30,
   "metadata": {},
   "outputs": [
    {
     "data": {
      "text/plain": [
       "MultinomialNB(alpha=1.0, class_prior=None, fit_prior=True)"
      ]
     },
     "execution_count": 30,
     "metadata": {},
     "output_type": "execute_result"
    }
   ],
   "source": [
    "#Importing the Gaussian Naive Bayes library:\n",
    "from sklearn.naive_bayes import MultinomialNB \n",
    "classifier = MultinomialNB()\n",
    "classifier.fit(X_train , y_train)"
   ]
  },
  {
   "cell_type": "code",
   "execution_count": 31,
   "metadata": {},
   "outputs": [],
   "source": [
    "y_pred = classifier.predict(X_test)"
   ]
  },
  {
   "cell_type": "code",
   "execution_count": 32,
   "metadata": {},
   "outputs": [
    {
     "name": "stdout",
     "output_type": "stream",
     "text": [
      "[[1093  447]\n",
      " [ 453 4800]]\n"
     ]
    }
   ],
   "source": [
    "from sklearn.metrics import confusion_matrix, classification_report\n",
    "print(confusion_matrix(y_test, y_pred))"
   ]
  },
  {
   "cell_type": "code",
   "execution_count": 33,
   "metadata": {},
   "outputs": [
    {
     "name": "stdout",
     "output_type": "stream",
     "text": [
      "              precision    recall  f1-score   support\n",
      "\n",
      "           0       0.71      0.71      0.71      1540\n",
      "           1       0.91      0.91      0.91      5253\n",
      "\n",
      "    accuracy                           0.87      6793\n",
      "   macro avg       0.81      0.81      0.81      6793\n",
      "weighted avg       0.87      0.87      0.87      6793\n",
      "\n"
     ]
    }
   ],
   "source": [
    "print(classification_report(y_test, y_pred))"
   ]
  },
  {
   "cell_type": "markdown",
   "metadata": {},
   "source": [
    "The classification report states 71% accuracy for negative reviews and 91% accuracy for positive reviews.\n",
    "\n",
    "The results we have recieved are pretty good for the size of the dataset we had and the amount of data cleaning that we did. Ofcourse we can improve the model by further cleaning the data and experimenting with different algorithms or tuning various parameters. "
   ]
  },
  {
   "cell_type": "code",
   "execution_count": 34,
   "metadata": {},
   "outputs": [],
   "source": [
    "def cleansing(newReview):\n",
    "    newReview = re.sub(\"[^a-zA-Z]\" , ' ' , newReview)\n",
    "    newReview = newReview.lower() \n",
    "    newReview = newReview.split() \n",
    "    newReview = [ps.stem(word) for word in newReview if not word in set(stopwords.words('english'))]\n",
    "    newReview = ' '.join(newReview)\n",
    "    return newReview"
   ]
  },
  {
   "cell_type": "markdown",
   "metadata": {},
   "source": [
    "#### Let us test our model with new reviews\n",
    "\n",
    "### Case 1 :"
   ]
  },
  {
   "cell_type": "code",
   "execution_count": 35,
   "metadata": {},
   "outputs": [
    {
     "name": "stdout",
     "output_type": "stream",
     "text": [
      "Enter your reivewThis is a very good Tshirt. Really loved the design and the fitting is perfect. Very good service and would definitly recommend to more people.\n"
     ]
    },
    {
     "data": {
      "text/plain": [
       "'The review you have entered is: This is a very good Tshirt. Really loved the design and the fitting is perfect. Very good service and would definitly recommend to more people.'"
      ]
     },
     "execution_count": 35,
     "metadata": {},
     "output_type": "execute_result"
    }
   ],
   "source": [
    "newReview = input(\"Enter your reivew\")\n",
    "'The review you have entered is: ' + newReview"
   ]
  },
  {
   "cell_type": "code",
   "execution_count": 36,
   "metadata": {},
   "outputs": [
    {
     "data": {
      "text/plain": [
       "'good tshirt realli love design fit perfect good servic would definitli recommend peopl'"
      ]
     },
     "execution_count": 36,
     "metadata": {},
     "output_type": "execute_result"
    }
   ],
   "source": [
    "cleansing(newReview)"
   ]
  },
  {
   "cell_type": "code",
   "execution_count": 37,
   "metadata": {},
   "outputs": [],
   "source": [
    "newReview = cv.transform([newReview])"
   ]
  },
  {
   "cell_type": "code",
   "execution_count": 38,
   "metadata": {},
   "outputs": [],
   "source": [
    "value = classifier.predict(newReview)"
   ]
  },
  {
   "cell_type": "code",
   "execution_count": 39,
   "metadata": {},
   "outputs": [
    {
     "data": {
      "text/plain": [
       "1"
      ]
     },
     "execution_count": 39,
     "metadata": {},
     "output_type": "execute_result"
    }
   ],
   "source": [
    "value[0]"
   ]
  },
  {
   "cell_type": "markdown",
   "metadata": {},
   "source": [
    "#### As we can see that our model has predicted that the new use review was positive."
   ]
  },
  {
   "cell_type": "markdown",
   "metadata": {},
   "source": [
    "### Case 2 :"
   ]
  },
  {
   "cell_type": "code",
   "execution_count": 40,
   "metadata": {},
   "outputs": [
    {
     "name": "stdout",
     "output_type": "stream",
     "text": [
      "Enter your reivewThe top was not of the correct size and they sent a different color. Was very dissapointed in the product and i will not shop from here again.\n"
     ]
    },
    {
     "data": {
      "text/plain": [
       "'The review you have entered is :\\nThe top was not of the correct size and they sent a different color. Was very dissapointed in the product and i will not shop from here again.'"
      ]
     },
     "execution_count": 40,
     "metadata": {},
     "output_type": "execute_result"
    }
   ],
   "source": [
    "newReview = input(\"Enter your reivew\")\n",
    "'The review you have entered is :\\n' + newReview"
   ]
  },
  {
   "cell_type": "code",
   "execution_count": 41,
   "metadata": {},
   "outputs": [
    {
     "data": {
      "text/plain": [
       "'top correct size sent differ color dissapoint product shop'"
      ]
     },
     "execution_count": 41,
     "metadata": {},
     "output_type": "execute_result"
    }
   ],
   "source": [
    "cleansing(newReview)"
   ]
  },
  {
   "cell_type": "code",
   "execution_count": 42,
   "metadata": {},
   "outputs": [],
   "source": [
    "newReview = cv.transform([newReview])"
   ]
  },
  {
   "cell_type": "code",
   "execution_count": 43,
   "metadata": {},
   "outputs": [],
   "source": [
    "value = classifier.predict(newReview)"
   ]
  },
  {
   "cell_type": "code",
   "execution_count": 44,
   "metadata": {},
   "outputs": [
    {
     "data": {
      "text/plain": [
       "0"
      ]
     },
     "execution_count": 44,
     "metadata": {},
     "output_type": "execute_result"
    }
   ],
   "source": [
    "value[0]"
   ]
  },
  {
   "cell_type": "markdown",
   "metadata": {},
   "source": [
    "#### As we can see that our model has predicted that the new use review was negative.\n",
    "\n",
    "Hence our model has predicted the right values and is now complete. \n"
   ]
  }
 ],
 "metadata": {
  "kernelspec": {
   "display_name": "Python 3",
   "language": "python",
   "name": "python3"
  },
  "language_info": {
   "codemirror_mode": {
    "name": "ipython",
    "version": 3
   },
   "file_extension": ".py",
   "mimetype": "text/x-python",
   "name": "python",
   "nbconvert_exporter": "python",
   "pygments_lexer": "ipython3",
   "version": "3.7.2"
  }
 },
 "nbformat": 4,
 "nbformat_minor": 2
}
